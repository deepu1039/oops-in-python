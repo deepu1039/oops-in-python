{
 "cells": [
  {
   "cell_type": "code",
   "execution_count": 1,
   "metadata": {},
   "outputs": [],
   "source": [
    "lst=[1,2,3,4]\n"
   ]
  },
  {
   "cell_type": "code",
   "execution_count": 2,
   "metadata": {},
   "outputs": [
    {
     "data": {
      "text/plain": [
       "1"
      ]
     },
     "execution_count": 2,
     "metadata": {},
     "output_type": "execute_result"
    }
   ],
   "source": [
    "lst.count(3)"
   ]
  },
  {
   "cell_type": "code",
   "execution_count": 15,
   "metadata": {},
   "outputs": [
    {
     "name": "stdout",
     "output_type": "stream",
     "text": [
      "<class 'list'>\n",
      "<class 'float'>\n",
      "<class 'int'>\n",
      "<class 'bool'>\n",
      "<class 'str'>\n",
      "<class 'tuple'>\n",
      "<class 'set'>\n",
      "<class 'dict'>\n"
     ]
    }
   ],
   "source": [
    "print(type([]))\n",
    "print(type(1.1))\n",
    "print(type(1))\n",
    "print(type(True))\n",
    "print(type(\"jay\"))\n",
    "print(type(()))\n",
    "print(type({'a','b'}))\n",
    "print(type({}))"
   ]
  },
  {
   "cell_type": "markdown",
   "metadata": {},
   "source": [
    "self holds variables values, \n",
    "\n",
    "pass is just  skip\n",
    "self should be declared always eventhough parameters are not passed\n"
   ]
  },
  {
   "cell_type": "code",
   "execution_count": 17,
   "metadata": {},
   "outputs": [
    {
     "name": "stdout",
     "output_type": "stream",
     "text": [
      "<class '__main__.SampleDample'>\n"
     ]
    }
   ],
   "source": [
    " class SampleDample:\n",
    "    pass\n",
    "x=SampleDample()\n",
    "print(type(x))\n",
    "        "
   ]
  },
  {
   "cell_type": "code",
   "execution_count": 20,
   "metadata": {},
   "outputs": [],
   "source": [
    "class Tiger:\n",
    "    def __init__(self,breed):\n",
    "        self.breed = breed\n",
    "simba=Tiger(\"Bemgal Tiger\")\n",
    "PK=Tiger(\"white tiger\")\n",
    "\n",
    "        "
   ]
  },
  {
   "cell_type": "code",
   "execution_count": 21,
   "metadata": {},
   "outputs": [
    {
     "data": {
      "text/plain": [
       "'Bemgal Tiger'"
      ]
     },
     "execution_count": 21,
     "metadata": {},
     "output_type": "execute_result"
    }
   ],
   "source": [
    "simba.breed"
   ]
  },
  {
   "cell_type": "code",
   "execution_count": 22,
   "metadata": {},
   "outputs": [
    {
     "data": {
      "text/plain": [
       "'white tiger'"
      ]
     },
     "execution_count": 22,
     "metadata": {},
     "output_type": "execute_result"
    }
   ],
   "source": [
    "PK.breed"
   ]
  },
  {
   "cell_type": "code",
   "execution_count": 26,
   "metadata": {},
   "outputs": [],
   "source": [
    "class Tiger:\n",
    "    def __init__(self,breed1):   #docs\n",
    "        self.breed = breed1      #attribute\n",
    "simba=Tiger(\"Bemgal Tiger\")\n",
    "PK=Tiger(\"white tiger\")\n"
   ]
  },
  {
   "cell_type": "code",
   "execution_count": 25,
   "metadata": {},
   "outputs": [
    {
     "data": {
      "text/plain": [
       "'Bemgal Tiger'"
      ]
     },
     "execution_count": 25,
     "metadata": {},
     "output_type": "execute_result"
    }
   ],
   "source": [
    "simba.breed"
   ]
  },
  {
   "cell_type": "code",
   "execution_count": 27,
   "metadata": {},
   "outputs": [],
   "source": [
    "class Tiger:\n",
    "    def __init__(self,breed,name):\n",
    "        self.breed = breed\n",
    "        self.name=name\n",
    "simba=Tiger(\"Bemgal Tiger\",\"simba\")\n",
    "PK=Tiger(\"white tiger\",\"pk\")\n"
   ]
  },
  {
   "cell_type": "code",
   "execution_count": 30,
   "metadata": {},
   "outputs": [
    {
     "name": "stdout",
     "output_type": "stream",
     "text": [
      "simba\n",
      "Bemgal Tiger\n"
     ]
    }
   ],
   "source": [
    "print(simba.name)\n",
    "print(simba.breed)"
   ]
  },
  {
   "cell_type": "code",
   "execution_count": 29,
   "metadata": {},
   "outputs": [
    {
     "data": {
      "text/plain": [
       "'Bemgal Tiger'"
      ]
     },
     "execution_count": 29,
     "metadata": {},
     "output_type": "execute_result"
    }
   ],
   "source": [
    "simba.breed"
   ]
  },
  {
   "cell_type": "markdown",
   "metadata": {},
   "source": [
    "# methods in class"
   ]
  },
  {
   "cell_type": "code",
   "execution_count": 46,
   "metadata": {},
   "outputs": [],
   "source": [
    "class Circle:\n",
    "    \n",
    "    pi=3.14159\n",
    "    \n",
    "    def __init__(self,radius=1):\n",
    "        self.radius=radius\n",
    "        self.area=radius*radius*Circle.pi   #here we have initialised self just now and we cant call it (and we have to call constant using calls name)\n",
    "        \n",
    "    def getCircumference(self):\n",
    "        return 2*self.pi*self.radius\n",
    "    \n",
    "    def setRadius(self,new_radius):\n",
    "        self.radius=new_radius\n",
    "        self.area=new_radius*new_radius*self.pi\n",
    "        \n",
    "jay=Circle()        "
   ]
  },
  {
   "cell_type": "code",
   "execution_count": 47,
   "metadata": {},
   "outputs": [
    {
     "data": {
      "text/plain": [
       "3.14159"
      ]
     },
     "execution_count": 47,
     "metadata": {},
     "output_type": "execute_result"
    }
   ],
   "source": [
    "jay.area"
   ]
  },
  {
   "cell_type": "code",
   "execution_count": 45,
   "metadata": {},
   "outputs": [
    {
     "name": "stdout",
     "output_type": "stream",
     "text": [
      "3.14159\n",
      "1\n",
      "6.28318\n",
      "None\n",
      "4\n",
      "4\n",
      "25.13272\n"
     ]
    }
   ],
   "source": [
    "print(jay.area)\n",
    "print(jay.radius)\n",
    "print(jay.getCircumference())\n",
    "print(jay.setRadius(4))\n",
    "print(jay.radius)\n",
    "print(jay.radius)\n",
    "print(jay.getCircumference())\n"
   ]
  },
  {
   "cell_type": "markdown",
   "metadata": {},
   "source": [
    "# inheritance"
   ]
  },
  {
   "cell_type": "code",
   "execution_count": 66,
   "metadata": {},
   "outputs": [],
   "source": [
    "\n",
    "class cat:\n",
    "    def __init__(self,name):\n",
    "        self.name=name\n",
    "        print(self.name +\"cat got created\")\n",
    "    def talk(self):\n",
    "        return self.name + 'Says meow meow'\n",
    "    \n",
    "class minu(cat):\n",
    "    def __init__(self):\n",
    "        cat.__init__(self,'minu')\n",
    "        print(\"Minu got created\")\n",
    "        \n",
    "    def eat(self):\n",
    "        print(\"eats meat\")\n",
    "        \n",
    "    \n",
    "    "
   ]
  },
  {
   "cell_type": "code",
   "execution_count": 67,
   "metadata": {},
   "outputs": [
    {
     "name": "stdout",
     "output_type": "stream",
     "text": [
      "minucat got created\n",
      "Minu got created\n"
     ]
    }
   ],
   "source": [
    "m =minu()"
   ]
  },
  {
   "cell_type": "code",
   "execution_count": 68,
   "metadata": {},
   "outputs": [
    {
     "data": {
      "text/plain": [
       "'minuSays meow meow'"
      ]
     },
     "execution_count": 68,
     "metadata": {},
     "output_type": "execute_result"
    }
   ],
   "source": [
    "m.talk()"
   ]
  },
  {
   "cell_type": "code",
   "execution_count": 69,
   "metadata": {},
   "outputs": [
    {
     "name": "stdout",
     "output_type": "stream",
     "text": [
      "eats meat\n"
     ]
    }
   ],
   "source": [
    "m.eat()"
   ]
  },
  {
   "cell_type": "code",
   "execution_count": 76,
   "metadata": {},
   "outputs": [],
   "source": [
    "class dog:\n",
    "    def __init__(self,name):\n",
    "        self.name=name\n",
    "    def talk(self):\n",
    "        self.name + 'Says boww boww'\n",
    "class cat:\n",
    "    def __init__(self,name):\n",
    "        self.name=name\n",
    "        print(self.name +\"cat got created\")\n",
    "    def talk(self):\n",
    "        return self.name + 'Says meow meow'\n",
    "    \n",
    "class minu(cat):\n",
    "    def __init__(self):\n",
    "        cat.__init__(self,'minu')\n",
    "        print(\"Minu got created\")\n",
    "        \n",
    "    def eat(self):\n",
    "        print(\"eats meat\")\n",
    "            \n",
    "    "
   ]
  },
  {
   "cell_type": "code",
   "execution_count": 77,
   "metadata": {},
   "outputs": [
    {
     "data": {
      "text/plain": [
       "'minu'"
      ]
     },
     "execution_count": 77,
     "metadata": {},
     "output_type": "execute_result"
    }
   ],
   "source": [
    "m.name"
   ]
  },
  {
   "cell_type": "code",
   "execution_count": 75,
   "metadata": {},
   "outputs": [
    {
     "data": {
      "text/plain": [
       "'minuSays meow meow'"
      ]
     },
     "execution_count": 75,
     "metadata": {},
     "output_type": "execute_result"
    }
   ],
   "source": [
    "m.talk()"
   ]
  },
  {
   "cell_type": "code",
   "execution_count": null,
   "metadata": {},
   "outputs": [],
   "source": []
  }
 ],
 "metadata": {
  "kernelspec": {
   "display_name": "Python 3",
   "language": "python",
   "name": "python3"
  },
  "language_info": {
   "codemirror_mode": {
    "name": "ipython",
    "version": 3
   },
   "file_extension": ".py",
   "mimetype": "text/x-python",
   "name": "python",
   "nbconvert_exporter": "python",
   "pygments_lexer": "ipython3",
   "version": "3.7.1"
  }
 },
 "nbformat": 4,
 "nbformat_minor": 2
}
